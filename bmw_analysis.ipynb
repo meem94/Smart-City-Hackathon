{
 "cells": [
  {
   "cell_type": "markdown",
   "id": "cc4a0356",
   "metadata": {},
   "source": [
    "# read data"
   ]
  },
  {
   "cell_type": "code",
   "execution_count": 76,
   "id": "e424b2f8",
   "metadata": {},
   "outputs": [],
   "source": [
    "import pandas as pd\n",
    "import matplotlib.pyplot as plt\n",
    "\n",
    "bmw_data = pd.read_json('Trips-Output.json')\n",
    "\n",
    "# end_soc_kwh = state of charge (soc) in kilowatt / hour (kwh) at the end of the trip (end)\n",
    "# end_soc_perc = soc in percent (perc) at the end\n",
    "# end_time = unix time (time) at the end\n",
    "# end_x_ind = x coordinate of the vehicle as an ind (x_ind) at the end\n",
    "# end_y_ind = y coordinate of the vehicle as an ind (y_ind) at the end\n",
    "# start_soc_kwh = soc in kwh at the start of the trip (start)\n",
    "# start_soc_perc = soc in perc at the start\n",
    "# start_time = time at the start\n",
    "# start_x_ind = x_ind at the start\n",
    "# start_y_ind = y_ind at the start\n",
    "# vehicle_type = indicator if a vehicle is either a plug-in hybrid electric vehicle (PHEV) or a battery electric vehicle (BEV)\n",
    "# vin = vehicle identification number"
   ]
  },
  {
   "cell_type": "code",
   "execution_count": 77,
   "id": "6d51199d",
   "metadata": {},
   "outputs": [
    {
     "name": "stdout",
     "output_type": "stream",
     "text": [
      "   charging_station_loc  parking_time\n",
      "0                218,94     66.159444\n",
      "1                  0,72      0.595556\n",
      "2                55,498      2.317500\n",
      "3                 23,22      1.021111\n",
      "4                24,322      0.050278\n",
      "5                394,56      5.409167\n",
      "6             3723,4329      0.118889\n",
      "7                95,315      6.976944\n",
      "8               17,2642    185.928056\n",
      "9              200,1546    244.675556\n",
      "10              263,786    527.074444\n",
      "11               24,403   1821.736944\n",
      "12              151,174    304.017222\n",
      "13            1335,1092      7.202500\n",
      "14               95,398      7.579444\n",
      "15             4106,393   4251.160000\n",
      "16              834,931    646.934444\n",
      "17               51,106   3840.471944\n",
      "18              495,214   1862.400000\n",
      "19              495,214   1283.065833\n",
      "20             1384,210   1533.262222\n",
      "21              495,214   1028.150278\n",
      "22              478,515     21.852222\n",
      "23              285,346     22.712500\n",
      "24            2544,1809      0.461111\n",
      "25              188,358   1447.225833\n",
      "26              188,358   1987.852222\n",
      "27               364,22   4151.137778\n",
      "28              197,474   3097.571389\n",
      "29                25,21    335.097222\n",
      "30               23,396   1848.987500\n",
      "31               293,56   1914.143889\n",
      "32              293,572      3.682500\n",
      "33               39,340     44.711111\n"
     ]
    }
   ],
   "source": [
    "df = pd.DataFrame(columns=['charging_station_loc', 'parking_time'])\n",
    "for i in range(bmw_data['vin'].max()+1):\n",
    "    \n",
    "    #take data of each vehicle and sort them by start_time\n",
    "    vin_data=bmw_data[bmw_data['vin']==i].sort_values(by='start_time')\n",
    "  \n",
    "    length=len(vin_data)\n",
    "    pehv_total_charge_increased = 0\n",
    "    bev_total_charge_increased = 0\n",
    "    pehv_total_time = 0\n",
    "    bev_total_time = 0\n",
    "    count=0;\n",
    "   \n",
    "    for index, row in vin_data.head(length).iterrows():\n",
    "        \n",
    "        #count is set to 0 initially, when the first row is encountered do no comparison, \n",
    "        # just save this row to prev_row\n",
    "        if count==0:\n",
    "            prev_row = row\n",
    "            count=1\n",
    "        \n",
    "        #if current rows start location is same as prev_row's end location and the charging percentage is increased\n",
    "        # in the current row data, that means there was a charging session\n",
    "        else:\n",
    "            if(row['start_x_ind'] == prev_row['end_x_ind'] and row['start_y_ind'] == prev_row['end_y_ind'] \n",
    "               and row['start_soc_kwh'] > prev_row['end_soc_kwh']):\n",
    "#                 print(row['start_x_ind'], row['start_y_ind'], row['start_time'] - prev_row['end_time'], \n",
    "#                       row['start_soc_kwh'] - prev_row['end_soc_kwh'], \"kwh,\",\n",
    "#                       row['start_soc_perc'] - prev_row['end_soc_perc'], \"%,\",\n",
    "#                       row['vehicle_type'] )\n",
    "                \n",
    "                charging_station_loc = str(row['start_x_ind'])+','+ str(row['start_y_ind'])\n",
    "                parking_time = (row['start_time'] - prev_row['end_time']).total_seconds() / 3600                                                        \n",
    "                new_row = pd.DataFrame([[charging_station_loc, parking_time]], columns=['charging_station_loc', 'parking_time'])\n",
    "                df = df.append(new_row, ignore_index=True)\n",
    "                prev_row = row\n",
    "print(df)"
   ]
  },
  {
   "cell_type": "code",
   "execution_count": 78,
   "id": "1cce21ce",
   "metadata": {},
   "outputs": [
    {
     "name": "stdout",
     "output_type": "stream",
     "text": [
      "   charging_station_loc  avg_parking_time\n",
      "0                  0,72          0.595556\n",
      "1             1335,1092          7.202500\n",
      "2              1384,210       1533.262222\n",
      "3               151,174        304.017222\n",
      "4               17,2642        185.928056\n",
      "5               188,358       1717.539028\n",
      "6               197,474       3097.571389\n",
      "7              200,1546        244.675556\n",
      "8                218,94         66.159444\n",
      "9                 23,22          1.021111\n",
      "10               23,396       1848.987500\n",
      "11               24,322          0.050278\n",
      "12               24,403       1821.736944\n",
      "13                25,21        335.097222\n",
      "14            2544,1809          0.461111\n",
      "15              263,786        527.074444\n",
      "16              285,346         22.712500\n",
      "17               293,56       1914.143889\n",
      "18              293,572          3.682500\n",
      "19               364,22       4151.137778\n",
      "20            3723,4329          0.118889\n",
      "21               39,340         44.711111\n",
      "22               394,56          5.409167\n",
      "23             4106,393       4251.160000\n",
      "24              478,515         21.852222\n",
      "25              495,214       1391.205370\n",
      "26               51,106       3840.471944\n",
      "27               55,498          2.317500\n",
      "28              834,931        646.934444\n",
      "29               95,315          6.976944\n",
      "30               95,398          7.579444\n"
     ]
    },
    {
     "data": {
      "image/png": "[encoded data removed]",
      "text/plain": [
       "<Figure size 432x288 with 1 Axes>"
      ]
     },
     "metadata": {
      "needs_background": "light"
     },
     "output_type": "display_data"
    }
   ],
   "source": [
    "dfg=df.groupby('charging_station_loc').parking_time.mean().reset_index()\n",
    "#plot the charging stations and their average charging times\n",
    "#df.groupby('charging_station_loc').parking_time.mean().plot(kind = \"bar\")\n",
    "dfg = dfg.rename(columns={'parking_time': 'avg_parking_time'})\n",
    "print(dfg)\n",
    "plot=dfg[dfg['avg_parking_time']<10.0].plot.bar(x='charging_station_loc', y='avg_parking_time', \n",
    "                                           title='Average Charging Time < 10 Hours', rot=70)\n",
    "fig = plot.get_figure()\n",
    "fig.savefig(\"Average Charging Time < 10 Hours.png\")"
   ]
  },
  {
   "cell_type": "code",
   "execution_count": 79,
   "id": "b9ccc80c",
   "metadata": {},
   "outputs": [
    {
     "name": "stdout",
     "output_type": "stream",
     "text": [
      "   charging_station_loc  avg_parking_time\n",
      "0                  0,72          0.024815\n",
      "1             1335,1092          0.300104\n",
      "2              1384,210         63.885926\n",
      "3               151,174         12.667384\n",
      "4               17,2642          7.747002\n",
      "5               188,358         71.564126\n",
      "6               197,474        129.065475\n",
      "7              200,1546         10.194815\n",
      "8                218,94          2.756644\n",
      "9                 23,22          0.042546\n",
      "10               23,396         77.041146\n",
      "11               24,322          0.002095\n",
      "12               24,403         75.905706\n",
      "13                25,21         13.962384\n",
      "14            2544,1809          0.019213\n",
      "15              263,786         21.961435\n",
      "16              285,346          0.946354\n",
      "17               293,56         79.755995\n",
      "18              293,572          0.153438\n",
      "19               364,22        172.964074\n",
      "20            3723,4329          0.004954\n",
      "21               39,340          1.862963\n",
      "22               394,56          0.225382\n",
      "23             4106,393        177.131667\n",
      "24              478,515          0.910509\n",
      "25              495,214         57.966890\n",
      "26               51,106        160.019664\n",
      "27               55,498          0.096562\n",
      "28              834,931         26.955602\n",
      "29               95,315          0.290706\n",
      "30               95,398          0.315810\n"
     ]
    }
   ],
   "source": [
    "dfg.avg_parking_time = dfg.avg_parking_time/24.0\n",
    "print(dfg)\n",
    "\n",
    "# dfg"
   ]
  },
  {
   "cell_type": "code",
   "execution_count": 80,
   "id": "eee4b324",
   "metadata": {},
   "outputs": [
    {
     "data": {
      "image/png": "[encoded data removed]",
      "text/plain": [
       "<Figure size 432x288 with 1 Axes>"
      ]
     },
     "metadata": {
      "needs_background": "light"
     },
     "output_type": "display_data"
    }
   ],
   "source": [
    "plot=dfg[dfg['avg_parking_time']>=1.0].plot.bar(x='charging_station_loc', y='avg_parking_time', \n",
    "                                           title='Average Charging Time > 1 day', rot=70)\n",
    "fig = plot.get_figure()\n",
    "fig.savefig(\"Average Charging Time > 1 day.png\")"
   ]
  },
  {
   "cell_type": "code",
   "execution_count": null,
   "id": "b5a1846c",
   "metadata": {},
   "outputs": [],
   "source": []
  }
 ],
 "metadata": {
  "kernelspec": {
   "display_name": "Python 3",
   "language": "python",
   "name": "python3"
  },
  "language_info": {
   "codemirror_mode": {
    "name": "ipython",
    "version": 3
   },
   "file_extension": ".py",
   "mimetype": "text/x-python",
   "name": "python",
   "nbconvert_exporter": "python",
   "pygments_lexer": "ipython3",
   "version": "3.8.8"
  }
 },
 "nbformat": 4,
 "nbformat_minor": 5
}
